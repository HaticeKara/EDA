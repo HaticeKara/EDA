{
 "cells": [
  {
   "cell_type": "code",
   "execution_count": 61,
   "metadata": {
    "pycharm": {
     "name": "#%%\n"
    }
   },
   "outputs": [],
   "source": [
    "import warnings\n",
    "warnings.simplefilter(action='ignore', category=FutureWarning)\n",
    "import pandas as pd\n",
    "import matplotlib.pyplot as plt\n",
    "import seaborn as sns\n",
    "from sklearn.model_selection import train_test_split\n"
   ]
  },
  {
   "cell_type": "code",
   "execution_count": 3,
   "metadata": {
    "pycharm": {
     "name": "#%%\n"
    }
   },
   "outputs": [],
   "source": [
    "eda_LR = pd.read_csv(\"/home/apprenant/PycharmProjects/pythonProject2/EDA/02-Row/eda_LR.csv\")"
   ]
  },
  {
   "cell_type": "markdown",
   "metadata": {},
   "source": [
    " ### Lasso regression model"
   ]
  },
  {
   "cell_type": "markdown",
   "metadata": {},
   "source": [
    " #### Modelisation avec les paramètres par défaut"
   ]
  },
  {
   "cell_type": "code",
   "execution_count": 68,
   "metadata": {
    "pycharm": {
     "name": "#%%\n"
    }
   },
   "outputs": [],
   "source": [
    "import pandas as pd\n",
    "\n",
    "from sklearn.model_selection import train_test_split\n",
    "from sklearn.metrics import mean_squared_error, r2_score\n",
    "\n",
    "def get_model_metrics(model, X, y, b1=True, b2=True):\n",
    "    \"\"\"\n",
    "        Separate data in train and test sets,\n",
    "        fit the model,\n",
    "        make predictions on train and test datas,\n",
    "        print metrics\n",
    "        params:\n",
    "            model(function): model used with params (ie: Lasso(alpha=x))\n",
    "            X(DataFrame): DataFrame subset with selected features,\n",
    "            y(Series): variable to predict\n",
    "        returns:\n",
    "                print β1, β0, R2 and RMSE\n",
    "    \"\"\"\n",
    "    # Split des datas\n",
    "    X_train, X_test, y_train, y_test = train_test_split(\n",
    "        X, y, train_size=0.8, random_state=1\n",
    "    )\n",
    "    model.fit(X_train, y_train)\n",
    "\n",
    "    if b1:\n",
    "        # Affichage des β1 pour chaque variable\n",
    "        for idx, name in enumerate(X_train.columns):\n",
    "            print(f\"β1 de {name} : {round(model.coef_[idx], 3)}\")\n",
    "    if b2:\n",
    "        print(f\"β0 (intercept_) : {round(model.intercept_, 3)}\\n\")\n",
    "\n",
    "    y_train_pred = model.predict(X_train)\n",
    "    y_test_pred = model.predict(X_test)\n",
    "\n",
    "    y_list = [y_train, y_train_pred, y_test, y_test_pred]\n",
    "    #get_r2_rmse(y_list)"
   ]
  },
  {
   "cell_type": "code",
   "execution_count": 66,
   "metadata": {
    "pycharm": {
     "name": "#%%\n"
    }
   },
   "outputs": [
    {
     "name": "stdout",
     "output_type": "stream",
     "text": [
      "β1 de Id : -1.908\n",
      "β1 de MSSubClass : -134.472\n",
      "β1 de LotArea : 0.466\n",
      "β1 de OverallQual : 17591.405\n",
      "β1 de OverallCond : 4909.509\n",
      "β1 de YearBuilt : 354.728\n",
      "β1 de YearRemodAdd : 140.739\n",
      "β1 de BsmtFinSF1 : 15.555\n",
      "β1 de BsmtFinSF2 : 2.825\n",
      "β1 de BsmtUnfSF : 6.989\n",
      "β1 de TotalBsmtSF : 4.137\n",
      "β1 de 1stFlrSF : 35.604\n",
      "β1 de 2ndFlrSF : 31.494\n",
      "β1 de LowQualFinSF : 25.026\n",
      "β1 de GrLivArea : 4.225\n",
      "β1 de BsmtFullBath : 8557.482\n",
      "β1 de BsmtHalfBath : 4352.124\n",
      "β1 de FullBath : 5825.828\n",
      "β1 de HalfBath : -321.993\n",
      "β1 de BedroomAbvGr : -9970.989\n",
      "β1 de KitchenAbvGr : -16900.197\n",
      "β1 de TotRmsAbvGrd : 7453.045\n",
      "β1 de Fireplaces : 3854.075\n",
      "β1 de GarageCars : 11198.713\n",
      "β1 de GarageArea : 3.379\n",
      "β1 de WoodDeckSF : 37.203\n",
      "β1 de OpenPorchSF : 5.865\n",
      "β1 de EnclosedPorch : 28.754\n",
      "β1 de 3SsnPorch : 9.875\n",
      "β1 de ScreenPorch : 74.972\n",
      "β1 de PoolArea : -144.455\n",
      "β1 de MiscVal : -0.484\n",
      "β1 de MoSold : -125.021\n",
      "β1 de YrSold : -922.82\n",
      "β0 (intercept_) : 806302.017\n",
      "\n"
     ]
    }
   ],
   "source": [
    "get_model_metrics(Lasso(alpha=5),X,y)"
   ]
  },
  {
   "cell_type": "code",
   "execution_count": null,
   "metadata": {
    "pycharm": {
     "name": "#%%\n"
    }
   },
   "outputs": [],
   "source": [
    "from sklearn.linear_model import Lasso\n",
    "from sklearn.metrics import mean_squared_error, r2_score\n",
    "\n",
    "def get_ml_metrics(model,X,y):\n",
    "    '''\n",
    "    separate data in train and test set\n",
    "    fit the model\n",
    "    predict target feature\n",
    "    print metrics\n",
    "    '''\n",
    "    X_train, X_test, y_train, y_test = train_test_split(X, y,random_state=1,  train_size = 0.8)\n",
    "    model.fit(X_train, y_train)\n",
    "    y_train_pred = model_lasso.predict(X_train)\n",
    "    y_test_pred = model_lasso.predict(X_test)"
   ]
  },
  {
   "cell_type": "code",
   "execution_count": 5,
   "metadata": {
    "pycharm": {
     "name": "#%%\n"
    }
   },
   "outputs": [],
   "source": [
    "'''Selecting features to train model'''\n",
    "X=eda_LR.drop(['LotFrontage',\n",
    "                'MasVnrArea',\n",
    "                'GarageYrBlt',\n",
    "               'SalePrice'],axis=1)\n",
    "y=eda_LR['SalePrice']\n",
    "\n",
    "'''We set the size of the train set to 75%. And the rest is for the test set.\n",
    "We set the split NOT in random.'''\n",
    "\n",
    "X_train, X_test, y_train, y_test = train_test_split(X, y,random_state=1,  train_size = 0.8)\n",
    "'''# Here we train the model only on the train dataset.'''\n",
    "model_lasso = Lasso().fit(X_train, y_train)"
   ]
  },
  {
   "cell_type": "markdown",
   "metadata": {},
   "source": [
    "### prédiction pour le modèle Lasso:"
   ]
  },
  {
   "cell_type": "code",
   "execution_count": null,
   "metadata": {
    "pycharm": {
     "name": "#%%\n"
    }
   },
   "outputs": [],
   "source": [
    "ytrainpred = model_lasso.predict(X_train)\n",
    "ytestpred = model_lasso.predict(X_test)\n",
    "\n",
    "print (\"Pour les données d'entrainement le R2 vaut {} alors que pour les données de test, il est de {}\"\n",
    "      .format(r2_score(y_train, ytrainpred), r2_score(y_test, ytestpred)))\n",
    "\n",
    "eda_LR['p_SalePrice_lasso']=model_lasso.predict(eda_LR.drop(['LotFrontage',\n",
    "                'MasVnrArea',\n",
    "                'GarageYrBlt',\n",
    "                'SalePrice'],axis=1))"
   ]
  },
  {
   "cell_type": "markdown",
   "metadata": {},
   "source": [
    " ### plotting SalePrice and Predicted SalePrice:"
   ]
  },
  {
   "cell_type": "code",
   "execution_count": null,
   "metadata": {
    "pycharm": {
     "name": "#%%\n"
    }
   },
   "outputs": [],
   "source": [
    "plt.figure(figsize=(10, 5))\n",
    "sns.scatterplot(x=eda_LR['YearBuilt'],y =eda_LR['SalePrice'],label=\"lR predict values\")\n",
    "sns.scatterplot(x=eda_LR['YearBuilt'],y =eda_LR['p_SalePrice_lasso'],label=\"Lasso predict values\",)"
   ]
  },
  {
   "cell_type": "code",
   "execution_count": null,
   "metadata": {
    "pycharm": {
     "name": "#%%\n"
    }
   },
   "outputs": [],
   "source": [
    "\n",
    "from sklearn.linear_model import Ridge\n",
    "from sklearn.metrics import mean_squared_error, r2_score"
   ]
  },
  {
   "cell_type": "code",
   "execution_count": null,
   "metadata": {
    "pycharm": {
     "name": "#%%\n"
    }
   },
   "outputs": [],
   "source": [
    "def get_best_alpha(model,X,y,alphas):\n",
    "    print(\"Model : \", model,'\\n')\n",
    "    for i in alphas:\n",
    "        model_search = model(alpha=i).fit(X,y)\n",
    "        print(\"\\nAlpha = \" , i)\n",
    "        print(\"\\nScore for the Train dataset  :\", model_search.score(X, y))\n",
    "        print(\"Score for the Test dataset :\", model_search.score(X,y))"
   ]
  },
  {
   "cell_type": "code",
   "execution_count": null,
   "metadata": {
    "pycharm": {
     "name": "#%%\n"
    }
   },
   "outputs": [],
   "source": [
    "alpha=(1,5,10,15,25,50,75,100,150)\n",
    "\n",
    "get_best_alpha(Lasso,X_train,y_train,alpha)\n",
    "get_best_alpha(Ridge,X_train,y_train,alpha)"
   ]
  },
  {
   "cell_type": "markdown",
   "metadata": {},
   "source": [
    " ###\n",
    "\n",
    "\n",
    "#"
   ]
  },
  {
   "cell_type": "code",
   "execution_count": 8,
   "metadata": {
    "pycharm": {
     "name": "#%%\n"
    }
   },
   "outputs": [],
   "source": []
  },
  {
   "cell_type": "markdown",
   "metadata": {},
   "source": [
    " ### Ridge regression model"
   ]
  },
  {
   "cell_type": "markdown",
   "metadata": {},
   "source": [
    " #### Modelisation avec les paramètrespar défaut\n"
   ]
  },
  {
   "cell_type": "code",
   "execution_count": null,
   "metadata": {
    "pycharm": {
     "name": "#%%\n"
    }
   },
   "outputs": [],
   "source": [
    "from sklearn.preprocessing import StandardScaler\n",
    "\n",
    "\n",
    "'''# Here we train the model only on the train dataset.'''\n",
    "model_Ridge = Ridge().fit(X_train, y_train)\n",
    "model_Ridge_alpha5 = Ridge(alpha=5).fit(X_train, y_train)\n",
    "model_Ridge_alpha10 = Ridge(alpha=10).fit(X_train, y_train)\n",
    "model_Ridge_alpha25 = Ridge(alpha=25).fit(X_train, y_train)\n",
    "model_Ridge_alpha50 = Ridge(alpha=50).fit(X_train, y_train)\n",
    "\n",
    "'''# And now we compare both scores :'''\n",
    "print('for several criteria scores are : ')\n",
    "print(\"\\nScore for the Train dataset \", model_Ridge.score(X_train, y_train))\n",
    "print(\"Score for the Test dataset :\", model_Ridge.score(X_test, y_test))\n",
    "print(\"\\nAlpha = 5\")\n",
    "print(\"\\nScore for the Train dataset  :\", model_Ridge_alpha5.score(X_train, y_train))\n",
    "print(\"Score for the Test dataset :\", model_Ridge_alpha5.score(X_test, y_test))\n",
    "print(\"\\nAlpha = 10\")\n",
    "print(\"\\nScore for the Train dataset  :\", model_Ridge_alpha10.score(X_train, y_train))\n",
    "print(\"Score for the Test dataset :\", model_Ridge_alpha10.score(X_test, y_test))\n",
    "print(\"\\nAlpha = 25\")\n",
    "print(\"\\nScore for the Train dataset  :\", model_Ridge_alpha25.score(X_train, y_train))\n",
    "print(\"Score for the Test dataset :\", model_Ridge_alpha25.score(X_test, y_test))\n",
    "print(\"\\nAlpha =50\")\n",
    "print(\"\\nScore for the Train dataset  :\", model_Ridge_alpha50.score(X_train, y_train))\n",
    "print(\"Score for the Test dataset :\", model_Ridge_alpha50.score(X_test, y_test))"
   ]
  },
  {
   "cell_type": "markdown",
   "metadata": {},
   "source": [
    " ###    alpha over 10 doesn't give good results"
   ]
  },
  {
   "cell_type": "code",
   "execution_count": 12,
   "metadata": {
    "pycharm": {
     "name": "#%%\n"
    }
   },
   "outputs": [
    {
     "name": "stdout",
     "output_type": "stream",
     "text": [
      "Pour les données d'entrainement le R2 vaut 0.8006715932967601 alors que pour les données de test, il est de 0.8113639469578335\n"
     ]
    }
   ],
   "source": [
    "ytrainpred = model_Ridge.predict(X_train)\n",
    "ytestpred = model_Ridge.predict(X_test)\n",
    "\n",
    "print (\"Pour les données d'entrainement le R2 vaut {} alors que pour les données de test, il est de {}\"\n",
    "      .format(r2_score(y_train, ytrainpred), r2_score(y_test, ytestpred)))"
   ]
  },
  {
   "cell_type": "markdown",
   "metadata": {},
   "source": [
    "### prediction for Ridge model with alpha = 5:"
   ]
  },
  {
   "cell_type": "code",
   "execution_count": 12,
   "metadata": {
    "pycharm": {
     "name": "#%%\n"
    }
   },
   "outputs": [],
   "source": []
  },
  {
   "cell_type": "code",
   "execution_count": 14,
   "metadata": {
    "pycharm": {
     "name": "#%%\n"
    }
   },
   "outputs": [],
   "source": [
    "eda_LR['p_SalePrice_ridge']=model_Ridge_alpha5.predict(eda_LR.drop(['LotFrontage',\n",
    "                'MasVnrArea',\n",
    "                'GarageYrBlt',\n",
    "                'p_SalePrice_lasso' ,\n",
    "                'SalePrice'],axis=1))"
   ]
  },
  {
   "cell_type": "markdown",
   "metadata": {},
   "source": [
    " ### plotting SalePrice and Predicted SalePrice:"
   ]
  },
  {
   "cell_type": "code",
   "execution_count": 15,
   "metadata": {
    "pycharm": {
     "name": "#%%\n"
    }
   },
   "outputs": [
    {
     "data": {
      "text/plain": [
       "<AxesSubplot:xlabel='YearBuilt', ylabel='SalePrice'>"
      ]
     },
     "execution_count": 15,
     "metadata": {},
     "output_type": "execute_result"
    },
    {
     "data": {
      "image/png": "[encoded data removed]",
      "text/plain": [
       "<Figure size 720x360 with 1 Axes>"
      ]
     },
     "metadata": {},
     "output_type": "display_data"
    }
   ],
   "source": [
    "sns.set_style('white', {'legend.frameon':True})\n",
    "plt.figure(figsize=(10, 5))\n",
    "sns.scatterplot(x=eda_LR['YearBuilt'],y =eda_LR['SalePrice'],label=\"lR predict values\")\n",
    "sns.scatterplot(x=eda_LR['YearBuilt'],y =eda_LR['p_SalePrice_ridge'],label=\"Ridge predict values\",)"
   ]
  },
  {
   "cell_type": "markdown",
   "metadata": {
    "pycharm": {
     "name": "#%% md\n"
    }
   },
   "source": [
    " ### Gridsearch for Ridge:"
   ]
  },
  {
   "cell_type": "code",
   "execution_count": 16,
   "metadata": {
    "pycharm": {
     "name": "#%%\n"
    }
   },
   "outputs": [],
   "source": [
    "import numpy as np\n",
    "from sklearn import datasets\n",
    "from sklearn.linear_model import Ridge\n",
    "from sklearn.model_selection import GridSearchCV"
   ]
  },
  {
   "cell_type": "code",
   "execution_count": 17,
   "metadata": {
    "pycharm": {
     "name": "#%%\n"
    }
   },
   "outputs": [],
   "source": [
    "'''Selecting features to train model'''\n",
    "X=eda_LR.drop(['LotFrontage',\n",
    "                'MasVnrArea',\n",
    "                'GarageYrBlt',\n",
    "               'SalePrice',\n",
    "               'p_SalePrice_ridge',\n",
    "               'p_SalePrice_lasso'],axis=1)\n",
    "y=eda_LR['SalePrice']"
   ]
  },
  {
   "cell_type": "code",
   "execution_count": 80,
   "metadata": {
    "pycharm": {
     "name": "#%%\n"
    }
   },
   "outputs": [],
   "source": [
    "from sklearn.linear_model import Ridge\n",
    "from sklearn.model_selection import RandomizedSearchCV\n",
    "def rsearch_CV(model,X,y,param_grid,n):\n",
    "    from sklearn.model_selection import RandomizedSearchCV\n",
    "    rsearch = RandomizedSearchCV(estimator=model, param_distributions=param_grid, n_iter=n)\n",
    "    rsearch.fit(X, y)\n",
    "    # summarize the results of the random parameter search\n",
    "    print ('=> RandomizedSearchCV  for ',model,'\\n')\n",
    "    print(rsearch.best_score_)\n",
    "    print(rsearch.best_params_)\n",
    "    print('Best Score: %s' % rsearch.best_estimator_.alpha)\n",
    "    print('Best Hyperparameters: %s' % rsearch.best_params_)\n",
    "    print('\\n')\n",
    "    return (rsearch.best_score_,rsearch.best_params_,rsearch.cv_results_)"
   ]
  },
  {
   "cell_type": "code",
   "execution_count": 81,
   "metadata": {
    "pycharm": {
     "name": "#%%\n"
    }
   },
   "outputs": [
    {
     "name": "stderr",
     "output_type": "stream",
     "text": [
      "/home/apprenant/.local/lib/python3.8/site-packages/sklearn/model_selection/_search.py:285: UserWarning: The total space of parameters 18 is smaller than n_iter=100. Running 18 iterations. For exhaustive searches, use GridSearchCV.\n",
      "  warnings.warn(\n",
      "/home/apprenant/.local/lib/python3.8/site-packages/sklearn/linear_model/_coordinate_descent.py:530: ConvergenceWarning: Objective did not converge. You might want to increase the number of iterations. Duality gap: 2471852527.1082764, tolerance: 564401606.449529\n",
      "  model = cd_fast.enet_coordinate_descent(\n",
      "/home/apprenant/.local/lib/python3.8/site-packages/sklearn/linear_model/_coordinate_descent.py:530: ConvergenceWarning: Objective did not converge. You might want to increase the number of iterations. Duality gap: 2140312430.9836426, tolerance: 546077078.4629872\n",
      "  model = cd_fast.enet_coordinate_descent(\n",
      "/home/apprenant/.local/lib/python3.8/site-packages/sklearn/model_selection/_search.py:285: UserWarning: The total space of parameters 18 is smaller than n_iter=100. Running 18 iterations. For exhaustive searches, use GridSearchCV.\n",
      "  warnings.warn(\n"
     ]
    },
    {
     "name": "stdout",
     "output_type": "stream",
     "text": [
      "=> RandomizedSearchCV  for  Lasso() \n",
      "\n",
      "0.7606983622233767\n",
      "{'normalize': True, 'alpha': 50}\n",
      "Best Score: 50\n",
      "Best Hyperparameters: {'normalize': True, 'alpha': 50}\n",
      "\n",
      "\n",
      "=> RandomizedSearchCV  for  Ridge() \n",
      "\n",
      "0.749957990558369\n",
      "{'normalize': False, 'alpha': 25}\n",
      "Best Score: 25\n",
      "Best Hyperparameters: {'normalize': False, 'alpha': 25}\n",
      "\n",
      "\n"
     ]
    }
   ],
   "source": [
    "'''\n",
    "            paramètres possibles :\n",
    "space = dict()\n",
    "space['solver'] = ['svd', 'cholesky', 'lsqr', 'sag']\n",
    "space['alpha'] = [1,5,10,15,25,50,75,100,150] # prepare a range of alpha values to test\n",
    "space['fit_intercept'] = [True, False]\n",
    "space['normalize'] = [True, False]'''\n",
    "\n",
    "param_grid = {'alpha': [1,5,10,15,25,50,75,100,150],'normalize':[True,False]}\n",
    "best_score_lasso,best_params_lasso,cv_result_lasso= rsearch_CV(Lasso(),X_train,y_train,param_grid,100)\n",
    "best_score_ridge,best_params_ridge,cv_result_ridge= rsearch_CV(Ridge(),X_train,y_train,param_grid,100)"
   ]
  },
  {
   "cell_type": "code",
   "execution_count": 32,
   "metadata": {
    "pycharm": {
     "name": "#%%\n"
    }
   },
   "outputs": [
    {
     "data": {
      "text/html": [
       "<div>\n",
       "<style scoped>\n",
       "    .dataframe tbody tr th:only-of-type {\n",
       "        vertical-align: middle;\n",
       "    }\n",
       "\n",
       "    .dataframe tbody tr th {\n",
       "        vertical-align: top;\n",
       "    }\n",
       "\n",
       "    .dataframe thead th {\n",
       "        text-align: right;\n",
       "    }\n",
       "</style>\n",
       "<table border=\"1\" class=\"dataframe\">\n",
       "  <thead>\n",
       "    <tr style=\"text-align: right;\">\n",
       "      <th></th>\n",
       "      <th>mean_fit_time</th>\n",
       "      <th>std_fit_time</th>\n",
       "      <th>mean_score_time</th>\n",
       "      <th>std_score_time</th>\n",
       "      <th>param_normalize</th>\n",
       "      <th>param_alpha</th>\n",
       "      <th>params</th>\n",
       "      <th>split0_test_score</th>\n",
       "      <th>split1_test_score</th>\n",
       "      <th>split2_test_score</th>\n",
       "      <th>split3_test_score</th>\n",
       "      <th>split4_test_score</th>\n",
       "      <th>mean_test_score</th>\n",
       "      <th>std_test_score</th>\n",
       "      <th>rank_test_score</th>\n",
       "    </tr>\n",
       "  </thead>\n",
       "  <tbody>\n",
       "    <tr>\n",
       "      <th>0</th>\n",
       "      <td>0.017272</td>\n",
       "      <td>0.013273</td>\n",
       "      <td>0.008217</td>\n",
       "      <td>0.007743</td>\n",
       "      <td>True</td>\n",
       "      <td>1</td>\n",
       "      <td>{'normalize': True, 'alpha': 1}</td>\n",
       "      <td>0.665645</td>\n",
       "      <td>0.792348</td>\n",
       "      <td>0.720769</td>\n",
       "      <td>0.748817</td>\n",
       "      <td>0.819854</td>\n",
       "      <td>0.749487</td>\n",
       "      <td>0.054117</td>\n",
       "      <td>7</td>\n",
       "    </tr>\n",
       "    <tr>\n",
       "      <th>1</th>\n",
       "      <td>0.019042</td>\n",
       "      <td>0.003135</td>\n",
       "      <td>0.007871</td>\n",
       "      <td>0.003828</td>\n",
       "      <td>False</td>\n",
       "      <td>1</td>\n",
       "      <td>{'normalize': False, 'alpha': 1}</td>\n",
       "      <td>0.612804</td>\n",
       "      <td>0.769808</td>\n",
       "      <td>0.725908</td>\n",
       "      <td>0.783116</td>\n",
       "      <td>0.855944</td>\n",
       "      <td>0.749516</td>\n",
       "      <td>0.080144</td>\n",
       "      <td>6</td>\n",
       "    </tr>\n",
       "    <tr>\n",
       "      <th>2</th>\n",
       "      <td>0.013698</td>\n",
       "      <td>0.002562</td>\n",
       "      <td>0.003266</td>\n",
       "      <td>0.000935</td>\n",
       "      <td>True</td>\n",
       "      <td>5</td>\n",
       "      <td>{'normalize': True, 'alpha': 5}</td>\n",
       "      <td>0.582752</td>\n",
       "      <td>0.644151</td>\n",
       "      <td>0.574873</td>\n",
       "      <td>0.578903</td>\n",
       "      <td>0.660743</td>\n",
       "      <td>0.608284</td>\n",
       "      <td>0.036523</td>\n",
       "      <td>11</td>\n",
       "    </tr>\n",
       "    <tr>\n",
       "      <th>3</th>\n",
       "      <td>0.015195</td>\n",
       "      <td>0.004199</td>\n",
       "      <td>0.003121</td>\n",
       "      <td>0.000672</td>\n",
       "      <td>False</td>\n",
       "      <td>5</td>\n",
       "      <td>{'normalize': False, 'alpha': 5}</td>\n",
       "      <td>0.611901</td>\n",
       "      <td>0.770418</td>\n",
       "      <td>0.726176</td>\n",
       "      <td>0.783808</td>\n",
       "      <td>0.856275</td>\n",
       "      <td>0.749716</td>\n",
       "      <td>0.080614</td>\n",
       "      <td>4</td>\n",
       "    </tr>\n",
       "    <tr>\n",
       "      <th>4</th>\n",
       "      <td>0.011577</td>\n",
       "      <td>0.001828</td>\n",
       "      <td>0.003202</td>\n",
       "      <td>0.000914</td>\n",
       "      <td>True</td>\n",
       "      <td>10</td>\n",
       "      <td>{'normalize': True, 'alpha': 10}</td>\n",
       "      <td>0.460826</td>\n",
       "      <td>0.496838</td>\n",
       "      <td>0.440992</td>\n",
       "      <td>0.438964</td>\n",
       "      <td>0.510387</td>\n",
       "      <td>0.469601</td>\n",
       "      <td>0.029119</td>\n",
       "      <td>12</td>\n",
       "    </tr>\n",
       "    <tr>\n",
       "      <th>5</th>\n",
       "      <td>0.022825</td>\n",
       "      <td>0.004632</td>\n",
       "      <td>0.003288</td>\n",
       "      <td>0.000291</td>\n",
       "      <td>False</td>\n",
       "      <td>10</td>\n",
       "      <td>{'normalize': False, 'alpha': 10}</td>\n",
       "      <td>0.610887</td>\n",
       "      <td>0.770945</td>\n",
       "      <td>0.726373</td>\n",
       "      <td>0.784519</td>\n",
       "      <td>0.856576</td>\n",
       "      <td>0.749860</td>\n",
       "      <td>0.081116</td>\n",
       "      <td>3</td>\n",
       "    </tr>\n",
       "    <tr>\n",
       "      <th>6</th>\n",
       "      <td>0.016750</td>\n",
       "      <td>0.009396</td>\n",
       "      <td>0.002873</td>\n",
       "      <td>0.000311</td>\n",
       "      <td>True</td>\n",
       "      <td>15</td>\n",
       "      <td>{'normalize': True, 'alpha': 15}</td>\n",
       "      <td>0.375323</td>\n",
       "      <td>0.400571</td>\n",
       "      <td>0.354719</td>\n",
       "      <td>0.351258</td>\n",
       "      <td>0.411552</td>\n",
       "      <td>0.378685</td>\n",
       "      <td>0.024071</td>\n",
       "      <td>13</td>\n",
       "    </tr>\n",
       "    <tr>\n",
       "      <th>7</th>\n",
       "      <td>0.004493</td>\n",
       "      <td>0.000552</td>\n",
       "      <td>0.002613</td>\n",
       "      <td>0.000120</td>\n",
       "      <td>False</td>\n",
       "      <td>15</td>\n",
       "      <td>{'normalize': False, 'alpha': 15}</td>\n",
       "      <td>0.609975</td>\n",
       "      <td>0.771314</td>\n",
       "      <td>0.726470</td>\n",
       "      <td>0.785120</td>\n",
       "      <td>0.856790</td>\n",
       "      <td>0.749934</td>\n",
       "      <td>0.081550</td>\n",
       "      <td>2</td>\n",
       "    </tr>\n",
       "    <tr>\n",
       "      <th>8</th>\n",
       "      <td>0.006791</td>\n",
       "      <td>0.001876</td>\n",
       "      <td>0.002815</td>\n",
       "      <td>0.000294</td>\n",
       "      <td>True</td>\n",
       "      <td>25</td>\n",
       "      <td>{'normalize': True, 'alpha': 25}</td>\n",
       "      <td>0.271138</td>\n",
       "      <td>0.286850</td>\n",
       "      <td>0.253542</td>\n",
       "      <td>0.249828</td>\n",
       "      <td>0.294248</td>\n",
       "      <td>0.271121</td>\n",
       "      <td>0.017576</td>\n",
       "      <td>14</td>\n",
       "    </tr>\n",
       "    <tr>\n",
       "      <th>9</th>\n",
       "      <td>0.004820</td>\n",
       "      <td>0.001201</td>\n",
       "      <td>0.002609</td>\n",
       "      <td>0.000140</td>\n",
       "      <td>False</td>\n",
       "      <td>25</td>\n",
       "      <td>{'normalize': False, 'alpha': 25}</td>\n",
       "      <td>0.608374</td>\n",
       "      <td>0.771784</td>\n",
       "      <td>0.726476</td>\n",
       "      <td>0.786112</td>\n",
       "      <td>0.857045</td>\n",
       "      <td>0.749958</td>\n",
       "      <td>0.082278</td>\n",
       "      <td>1</td>\n",
       "    </tr>\n",
       "    <tr>\n",
       "      <th>10</th>\n",
       "      <td>0.006234</td>\n",
       "      <td>0.002218</td>\n",
       "      <td>0.002705</td>\n",
       "      <td>0.000262</td>\n",
       "      <td>True</td>\n",
       "      <td>50</td>\n",
       "      <td>{'normalize': True, 'alpha': 50}</td>\n",
       "      <td>0.158500</td>\n",
       "      <td>0.166555</td>\n",
       "      <td>0.147165</td>\n",
       "      <td>0.144325</td>\n",
       "      <td>0.169632</td>\n",
       "      <td>0.157236</td>\n",
       "      <td>0.010102</td>\n",
       "      <td>15</td>\n",
       "    </tr>\n",
       "    <tr>\n",
       "      <th>11</th>\n",
       "      <td>0.006197</td>\n",
       "      <td>0.001808</td>\n",
       "      <td>0.003150</td>\n",
       "      <td>0.000968</td>\n",
       "      <td>False</td>\n",
       "      <td>50</td>\n",
       "      <td>{'normalize': False, 'alpha': 50}</td>\n",
       "      <td>0.605110</td>\n",
       "      <td>0.772279</td>\n",
       "      <td>0.725925</td>\n",
       "      <td>0.787892</td>\n",
       "      <td>0.857107</td>\n",
       "      <td>0.749662</td>\n",
       "      <td>0.083638</td>\n",
       "      <td>5</td>\n",
       "    </tr>\n",
       "    <tr>\n",
       "      <th>12</th>\n",
       "      <td>0.011957</td>\n",
       "      <td>0.004639</td>\n",
       "      <td>0.002771</td>\n",
       "      <td>0.000132</td>\n",
       "      <td>True</td>\n",
       "      <td>75</td>\n",
       "      <td>{'normalize': True, 'alpha': 75}</td>\n",
       "      <td>0.111501</td>\n",
       "      <td>0.116920</td>\n",
       "      <td>0.103433</td>\n",
       "      <td>0.101207</td>\n",
       "      <td>0.118081</td>\n",
       "      <td>0.110228</td>\n",
       "      <td>0.006865</td>\n",
       "      <td>16</td>\n",
       "    </tr>\n",
       "    <tr>\n",
       "      <th>13</th>\n",
       "      <td>0.005758</td>\n",
       "      <td>0.000671</td>\n",
       "      <td>0.003213</td>\n",
       "      <td>0.000703</td>\n",
       "      <td>False</td>\n",
       "      <td>75</td>\n",
       "      <td>{'normalize': False, 'alpha': 75}</td>\n",
       "      <td>0.602368</td>\n",
       "      <td>0.772382</td>\n",
       "      <td>0.724996</td>\n",
       "      <td>0.789097</td>\n",
       "      <td>0.856743</td>\n",
       "      <td>0.749117</td>\n",
       "      <td>0.084664</td>\n",
       "      <td>8</td>\n",
       "    </tr>\n",
       "    <tr>\n",
       "      <th>14</th>\n",
       "      <td>0.006114</td>\n",
       "      <td>0.000434</td>\n",
       "      <td>0.002671</td>\n",
       "      <td>0.000083</td>\n",
       "      <td>True</td>\n",
       "      <td>100</td>\n",
       "      <td>{'normalize': True, 'alpha': 100}</td>\n",
       "      <td>0.085793</td>\n",
       "      <td>0.089880</td>\n",
       "      <td>0.079644</td>\n",
       "      <td>0.077804</td>\n",
       "      <td>0.089968</td>\n",
       "      <td>0.084618</td>\n",
       "      <td>0.005077</td>\n",
       "      <td>17</td>\n",
       "    </tr>\n",
       "    <tr>\n",
       "      <th>15</th>\n",
       "      <td>0.006243</td>\n",
       "      <td>0.001730</td>\n",
       "      <td>0.003352</td>\n",
       "      <td>0.000413</td>\n",
       "      <td>False</td>\n",
       "      <td>100</td>\n",
       "      <td>{'normalize': False, 'alpha': 100}</td>\n",
       "      <td>0.599887</td>\n",
       "      <td>0.772299</td>\n",
       "      <td>0.723898</td>\n",
       "      <td>0.789947</td>\n",
       "      <td>0.856157</td>\n",
       "      <td>0.748438</td>\n",
       "      <td>0.085516</td>\n",
       "      <td>9</td>\n",
       "    </tr>\n",
       "    <tr>\n",
       "      <th>16</th>\n",
       "      <td>0.005822</td>\n",
       "      <td>0.001175</td>\n",
       "      <td>0.002854</td>\n",
       "      <td>0.000534</td>\n",
       "      <td>True</td>\n",
       "      <td>150</td>\n",
       "      <td>{'normalize': True, 'alpha': 150}</td>\n",
       "      <td>0.058450</td>\n",
       "      <td>0.061197</td>\n",
       "      <td>0.054434</td>\n",
       "      <td>0.053041</td>\n",
       "      <td>0.060125</td>\n",
       "      <td>0.057450</td>\n",
       "      <td>0.003185</td>\n",
       "      <td>18</td>\n",
       "    </tr>\n",
       "    <tr>\n",
       "      <th>17</th>\n",
       "      <td>0.005443</td>\n",
       "      <td>0.001280</td>\n",
       "      <td>0.002582</td>\n",
       "      <td>0.000176</td>\n",
       "      <td>False</td>\n",
       "      <td>150</td>\n",
       "      <td>{'normalize': False, 'alpha': 150}</td>\n",
       "      <td>0.595368</td>\n",
       "      <td>0.771813</td>\n",
       "      <td>0.721504</td>\n",
       "      <td>0.790976</td>\n",
       "      <td>0.854637</td>\n",
       "      <td>0.746860</td>\n",
       "      <td>0.086922</td>\n",
       "      <td>10</td>\n",
       "    </tr>\n",
       "  </tbody>\n",
       "</table>\n",
       "</div>"
      ],
      "text/plain": [
       "    mean_fit_time  std_fit_time  mean_score_time  std_score_time  \\\n",
       "0        0.017272      0.013273         0.008217        0.007743   \n",
       "1        0.019042      0.003135         0.007871        0.003828   \n",
       "2        0.013698      0.002562         0.003266        0.000935   \n",
       "3        0.015195      0.004199         0.003121        0.000672   \n",
       "4        0.011577      0.001828         0.003202        0.000914   \n",
       "5        0.022825      0.004632         0.003288        0.000291   \n",
       "6        0.016750      0.009396         0.002873        0.000311   \n",
       "7        0.004493      0.000552         0.002613        0.000120   \n",
       "8        0.006791      0.001876         0.002815        0.000294   \n",
       "9        0.004820      0.001201         0.002609        0.000140   \n",
       "10       0.006234      0.002218         0.002705        0.000262   \n",
       "11       0.006197      0.001808         0.003150        0.000968   \n",
       "12       0.011957      0.004639         0.002771        0.000132   \n",
       "13       0.005758      0.000671         0.003213        0.000703   \n",
       "14       0.006114      0.000434         0.002671        0.000083   \n",
       "15       0.006243      0.001730         0.003352        0.000413   \n",
       "16       0.005822      0.001175         0.002854        0.000534   \n",
       "17       0.005443      0.001280         0.002582        0.000176   \n",
       "\n",
       "   param_normalize param_alpha                              params  \\\n",
       "0             True           1     {'normalize': True, 'alpha': 1}   \n",
       "1            False           1    {'normalize': False, 'alpha': 1}   \n",
       "2             True           5     {'normalize': True, 'alpha': 5}   \n",
       "3            False           5    {'normalize': False, 'alpha': 5}   \n",
       "4             True          10    {'normalize': True, 'alpha': 10}   \n",
       "5            False          10   {'normalize': False, 'alpha': 10}   \n",
       "6             True          15    {'normalize': True, 'alpha': 15}   \n",
       "7            False          15   {'normalize': False, 'alpha': 15}   \n",
       "8             True          25    {'normalize': True, 'alpha': 25}   \n",
       "9            False          25   {'normalize': False, 'alpha': 25}   \n",
       "10            True          50    {'normalize': True, 'alpha': 50}   \n",
       "11           False          50   {'normalize': False, 'alpha': 50}   \n",
       "12            True          75    {'normalize': True, 'alpha': 75}   \n",
       "13           False          75   {'normalize': False, 'alpha': 75}   \n",
       "14            True         100   {'normalize': True, 'alpha': 100}   \n",
       "15           False         100  {'normalize': False, 'alpha': 100}   \n",
       "16            True         150   {'normalize': True, 'alpha': 150}   \n",
       "17           False         150  {'normalize': False, 'alpha': 150}   \n",
       "\n",
       "    split0_test_score  split1_test_score  split2_test_score  \\\n",
       "0            0.665645           0.792348           0.720769   \n",
       "1            0.612804           0.769808           0.725908   \n",
       "2            0.582752           0.644151           0.574873   \n",
       "3            0.611901           0.770418           0.726176   \n",
       "4            0.460826           0.496838           0.440992   \n",
       "5            0.610887           0.770945           0.726373   \n",
       "6            0.375323           0.400571           0.354719   \n",
       "7            0.609975           0.771314           0.726470   \n",
       "8            0.271138           0.286850           0.253542   \n",
       "9            0.608374           0.771784           0.726476   \n",
       "10           0.158500           0.166555           0.147165   \n",
       "11           0.605110           0.772279           0.725925   \n",
       "12           0.111501           0.116920           0.103433   \n",
       "13           0.602368           0.772382           0.724996   \n",
       "14           0.085793           0.089880           0.079644   \n",
       "15           0.599887           0.772299           0.723898   \n",
       "16           0.058450           0.061197           0.054434   \n",
       "17           0.595368           0.771813           0.721504   \n",
       "\n",
       "    split3_test_score  split4_test_score  mean_test_score  std_test_score  \\\n",
       "0            0.748817           0.819854         0.749487        0.054117   \n",
       "1            0.783116           0.855944         0.749516        0.080144   \n",
       "2            0.578903           0.660743         0.608284        0.036523   \n",
       "3            0.783808           0.856275         0.749716        0.080614   \n",
       "4            0.438964           0.510387         0.469601        0.029119   \n",
       "5            0.784519           0.856576         0.749860        0.081116   \n",
       "6            0.351258           0.411552         0.378685        0.024071   \n",
       "7            0.785120           0.856790         0.749934        0.081550   \n",
       "8            0.249828           0.294248         0.271121        0.017576   \n",
       "9            0.786112           0.857045         0.749958        0.082278   \n",
       "10           0.144325           0.169632         0.157236        0.010102   \n",
       "11           0.787892           0.857107         0.749662        0.083638   \n",
       "12           0.101207           0.118081         0.110228        0.006865   \n",
       "13           0.789097           0.856743         0.749117        0.084664   \n",
       "14           0.077804           0.089968         0.084618        0.005077   \n",
       "15           0.789947           0.856157         0.748438        0.085516   \n",
       "16           0.053041           0.060125         0.057450        0.003185   \n",
       "17           0.790976           0.854637         0.746860        0.086922   \n",
       "\n",
       "    rank_test_score  \n",
       "0                 7  \n",
       "1                 6  \n",
       "2                11  \n",
       "3                 4  \n",
       "4                12  \n",
       "5                 3  \n",
       "6                13  \n",
       "7                 2  \n",
       "8                14  \n",
       "9                 1  \n",
       "10               15  \n",
       "11                5  \n",
       "12               16  \n",
       "13                8  \n",
       "14               17  \n",
       "15                9  \n",
       "16               18  \n",
       "17               10  "
      ]
     },
     "execution_count": 32,
     "metadata": {},
     "output_type": "execute_result"
    }
   ],
   "source": [
    "pd.DataFrame(cv_result_ridge)"
   ]
  },
  {
   "cell_type": "code",
   "execution_count": null,
   "metadata": {
    "pycharm": {
     "name": "#%%\n"
    }
   },
   "outputs": [],
   "source": [
    "pd.DataFrame(cv_result_lasso)"
   ]
  }
 ],
 "metadata": {
  "kernelspec": {
   "display_name": "PyCharm (EDA)",
   "language": "python",
   "name": "pycharm-c83bdeb5"
  },
  "language_info": {
   "codemirror_mode": {
    "name": "ipython",
    "version": 3
   },
   "file_extension": ".py",
   "mimetype": "text/x-python",
   "name": "python",
   "nbconvert_exporter": "python",
   "pygments_lexer": "ipython3",
   "version": "3.8.5"
  }
 },
 "nbformat": 4,
 "nbformat_minor": 1
}
